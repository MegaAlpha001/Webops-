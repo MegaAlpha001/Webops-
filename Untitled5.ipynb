{
  "metadata": {
    "language_info": {
      "codemirror_mode": {
        "name": "python",
        "version": 3
      },
      "file_extension": ".py",
      "mimetype": "text/x-python",
      "name": "python",
      "nbconvert_exporter": "python",
      "pygments_lexer": "ipython3",
      "version": "3.8"
    },
    "kernelspec": {
      "name": "python",
      "display_name": "Python (Pyodide)",
      "language": "python"
    }
  },
  "nbformat_minor": 4,
  "nbformat": 4,
  "cells": [
    {
      "cell_type": "code",
      "source": "import numpy as np\nimport matplotlib.pyplot as plt\n\npoints = np.random.rand(20, 2) * 100\ndistances = np.linalg.norm(points, axis=1)\nsorted_indices = np.argsort(distances)\n\nwith open('assn2b.txt', 'w') as f:\n    for c in sorted_indices:\n        f.write(f'{points[c, 0]:.2f}, {points[c, 1]:.2f}\\n')\n\ndist_matrix = np.linalg.norm(points[:, np.newaxis, :] - points, axis=2)\nnearest_indices = np.argsort(dist_matrix, axis=1)[:, 1:4]\n\nplt.figure(figsize=(7, 7))\nplt.scatter(points[:, 0], points[:, 1], color='b', label='Points')\nfor i in range(20):\n    for j in nearest_indices[i]:\n        plt.plot([points[i, 0], points[j, 0]], [points[i, 1], points[j, 1]], color='r')\nplt.xlabel('<--- X --->')\nplt.ylabel('<--- Y --->')\nplt.title('Points and Their Connections')\nplt.legend()\nplt.show()\n",
      "metadata": {},
      "execution_count": null,
      "outputs": []
    }
  ]
}